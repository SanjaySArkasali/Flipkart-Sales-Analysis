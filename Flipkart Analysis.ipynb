{
 "cells": [
  {
   "cell_type": "code",
   "execution_count": 1,
   "id": "aa095f3b-f92f-46d7-b3c8-b293a68b78d2",
   "metadata": {},
   "outputs": [],
   "source": [
    "import pandas as pd"
   ]
  },
  {
   "cell_type": "code",
   "execution_count": 2,
   "id": "1efce8b3-8c9a-4539-ab0d-15bbf689004d",
   "metadata": {},
   "outputs": [],
   "source": [
    "pincode_lookup = pd.read_csv('Pincode_lookup.csv')\n",
    "pincode_lookup_or = pd.read_csv('State OR lookup.csv')"
   ]
  },
  {
   "cell_type": "code",
   "execution_count": 3,
   "id": "25f2b95d-1df6-43cc-8b1f-8d669398be96",
   "metadata": {},
   "outputs": [],
   "source": [
    "sales = pd.read_csv('merged_dataset_sales.csv')\n",
    "orders = pd.read_csv('merged_dataset_orders.csv')"
   ]
  },
  {
   "cell_type": "code",
   "execution_count": 4,
   "id": "79eca741-e281-4d3e-b0e4-f02edb4b41a4",
   "metadata": {},
   "outputs": [],
   "source": [
    "orders['order_id'] = orders['order_id'].str.replace('OD','',regex = False)\n",
    "sales['Order Item ID'] = sales['Order Item ID'].astype(str)"
   ]
  },
  {
   "cell_type": "code",
   "execution_count": 5,
   "id": "d31a6234-78a5-4891-a803-f3a7880e210e",
   "metadata": {},
   "outputs": [],
   "source": [
    "sales = sales.rename(columns={'Order Item ID':'order_id'})"
   ]
  },
  {
   "cell_type": "code",
   "execution_count": 6,
   "id": "3d35a702-d934-49c8-bd0e-852cbc400632",
   "metadata": {},
   "outputs": [],
   "source": [
    "result = pd.merge(sales, orders, on='order_id', how='left')"
   ]
  },
  {
   "cell_type": "code",
   "execution_count": 7,
   "id": "3371eb6d-465e-4c70-a5aa-b7e771e213c6",
   "metadata": {},
   "outputs": [
    {
     "data": {
      "text/plain": [
       "389"
      ]
     },
     "execution_count": 7,
     "metadata": {},
     "output_type": "execute_result"
    }
   ],
   "source": [
    "result['order_date'].isnull().sum()"
   ]
  },
  {
   "cell_type": "code",
   "execution_count": 8,
   "id": "489bd01b-d931-4de0-9ec2-75c6e23b7af7",
   "metadata": {},
   "outputs": [],
   "source": [
    "columns_remoce_double_quotes = ['Product Title/Description', 'FSN','SKU']\n",
    "\n",
    "for column in columns_remoce_double_quotes:\n",
    "    result[column] = result[column].str.replace('\"\"\"','',regex = True)"
   ]
  },
  {
   "cell_type": "code",
   "execution_count": 9,
   "id": "8ced7a5e-4a04-4b06-b094-e35d3377dba6",
   "metadata": {},
   "outputs": [],
   "source": [
    "result['SKU'] = result['SKU'].str.replace('SKU:','',regex = True)"
   ]
  },
  {
   "cell_type": "code",
   "execution_count": 10,
   "id": "ebe3f851-557b-4ec0-ada6-8f61023f7f4d",
   "metadata": {},
   "outputs": [],
   "source": [
    "result = result.drop(['Order ID','FSN','HSN Code'], axis =1)"
   ]
  },
  {
   "cell_type": "code",
   "execution_count": 11,
   "id": "671cb03f-e750-4ebe-bd2c-3257302cc103",
   "metadata": {},
   "outputs": [],
   "source": [
    "result.to_csv('merged_and_date.csv', index = False)"
   ]
  },
  {
   "cell_type": "code",
   "execution_count": 12,
   "id": "8fbde911-cb0c-45f6-b4af-8bffb56c2378",
   "metadata": {},
   "outputs": [],
   "source": [
    "merged_dataset = result"
   ]
  },
  {
   "cell_type": "code",
   "execution_count": 13,
   "id": "9e894615-c4a2-4d75-a753-6a33da76f97b",
   "metadata": {},
   "outputs": [],
   "source": [
    "merged_dataset['order_date'] = pd.to_datetime(merged_dataset['order_date'], errors = 'coerce')\n",
    "merged_dataset.drop_duplicates(subset=['order_id', 'Event Type', 'Event Sub Type', ], inplace = True)\n",
    "\n",
    "pincode_lookup_dict = pincode_lookup.set_index('Pincode')['StateName'].to_dict()\n",
    "merged_dataset['Shipping State'] = merged_dataset[\"Customer's Delivery Pincode\"].map(pincode_lookup_dict)\n",
    "\n",
    "pincode_lookup_or['First_Numbers'] = pincode_lookup_or['First_Numbers'].astype(str).replace('\\.0$','',regex = True) \n",
    "state_code_or_dict = pincode_lookup_or.set_index('First_Numbers')['State_Name'].to_dict()\n",
    "merged_dataset['state'] = merged_dataset[\"Customer's Delivery Pincode\"].astype(str).str[:2].map(state_code_or_dict)\n",
    "merged_dataset['Shipping State'] = merged_dataset[\"Shipping State\"].fillna(merged_dataset['state'])\n",
    "\n"
   ]
  },
  {
   "cell_type": "code",
   "execution_count": 14,
   "id": "8c6f362e-3ec3-488c-a712-421a86a350ee",
   "metadata": {},
   "outputs": [],
   "source": [
    "null_state = merged_dataset[\"Customer's Billing Pincode\"].where(merged_dataset['Shipping State'].isnull()).dropna(how='all')"
   ]
  },
  {
   "cell_type": "code",
   "execution_count": 15,
   "id": "dd8f1a50-9cbf-4aca-9aac-1217f7730c8b",
   "metadata": {},
   "outputs": [],
   "source": [
    "merged_dataset['Gross Sale']= merged_dataset['Buyer Invoice Amount '].where((merged_dataset['Event Type']== 'Sale') & (merged_dataset['Event Sub Type'] == 'Sale'))"
   ]
  },
  {
   "cell_type": "code",
   "execution_count": 16,
   "id": "b1a45269-247e-45fb-bf70-ec4dcc78a16c",
   "metadata": {},
   "outputs": [],
   "source": [
    "merged_dataset['Gross Sale'].fillna(0, inplace =True)"
   ]
  },
  {
   "cell_type": "code",
   "execution_count": 17,
   "id": "8cdfe74d-ef95-40dd-8f1a-740cede50c22",
   "metadata": {},
   "outputs": [],
   "source": [
    "merged_dataset['Net Sales'] = merged_dataset['Buyer Invoice Amount '].where((merged_dataset['Event Sub Type'] != 'Return Cancellation') & (merged_dataset['Event Sub Type'] != 'Cancellation'))"
   ]
  },
  {
   "cell_type": "code",
   "execution_count": 18,
   "id": "6c645bd0-9b16-4d9e-8457-f5894ee71f12",
   "metadata": {},
   "outputs": [],
   "source": [
    "merged_dataset['Net Sales'].fillna(0, inplace = True)"
   ]
  },
  {
   "cell_type": "code",
   "execution_count": 19,
   "id": "23a9d18b-9986-4c1a-96a7-3903bf283f37",
   "metadata": {},
   "outputs": [],
   "source": [
    "merged_dataset['SKU'] = merged_dataset['SKU'].replace(['\"','SKU:'],'',regex = True) \n",
    "merged_dataset['Product Title/Description'] = merged_dataset['Product Title/Description'].replace('\"', '', regex= True) "
   ]
  },
  {
   "cell_type": "code",
   "execution_count": 20,
   "id": "b829f5ae-953a-4100-83f9-7bf626f462bc",
   "metadata": {},
   "outputs": [],
   "source": [
    "merged_dataset['Return'] = merged_dataset['Buyer Invoice Amount '].where((merged_dataset['Event Type'] == 'Return') & (merged_dataset['Event Sub Type'] == 'Return'))\n",
    "merged_dataset['Promo Sales'] = merged_dataset['Buyer Invoice Amount '].where((merged_dataset['Event Sub Type'] != 'Return Cancellation') & \n",
    "                                                                              (merged_dataset['Event Sub Type'] != 'Cancellation') & \n",
    "                                                                              (merged_dataset['Total Discount'] < 0) & (merged_dataset['Event Sub Type'] != 'Return'))"
   ]
  },
  {
   "cell_type": "code",
   "execution_count": 21,
   "id": "efe45def-660c-4ebf-b869-655877e7b493",
   "metadata": {},
   "outputs": [],
   "source": [
    "drop_columns = ['Seller GSTIN', 'Event Type', 'Order Type', 'Fulfilment Type','Order Approval Date ', 'Item Quantity', 'Order Shipped From (State)',\n",
    "       'Price before discount', 'Total Discount', 'Seller Share ',\n",
    "       'Bank Offer Share',\n",
    "       'Price after discount (Price before discount-Total discount)',\n",
    "       'Shipping Charges',\n",
    "       'Final Invoice Amount (Price after discount+Shipping Charges)',\n",
    "       'Type of tax', 'Taxable Value (Final Invoice Amount -Taxes)',\n",
    "       'CST Rate', 'CST Amount', 'VAT Rate', 'VAT Amount', 'Luxury Cess Rate',\n",
    "       'Luxury Cess Amount', 'IGST Rate', 'IGST Amount', 'CGST Rate',\n",
    "       'CGST Amount', 'SGST Rate (or UTGST as applicable)',\n",
    "       'SGST Amount (Or UTGST as applicable)', 'TCS IGST Rate',\n",
    "       'TCS IGST Amount', 'TCS CGST Rate', 'TCS CGST Amount', 'TCS SGST Rate',\n",
    "       'TCS SGST Amount', 'Total TCS Deducted', 'Buyer Invoice ID',\n",
    "       'Buyer Invoice Date', 'Buyer Invoice Amount ', \"Customer's Billing State\",\n",
    "       \"Customer's Billing Pincode\", \"Customer's Delivery State\",\n",
    "       'Usual Price', 'Is Shopsy Order?', 'TDS Rate', 'TDS Amount']\n",
    "\n",
    "merged_dataset.drop(drop_columns,axis = 1 ,inplace = True)"
   ]
  },
  {
   "cell_type": "code",
   "execution_count": 22,
   "id": "e63327dd-1465-405d-baf1-68c83d59c4a8",
   "metadata": {},
   "outputs": [],
   "source": [
    "merged_dataset['hour'] = merged_dataset['order_date'].dt.hour"
   ]
  },
  {
   "cell_type": "code",
   "execution_count": 23,
   "id": "f4983de6-afb4-4de2-b6da-65add8c5859e",
   "metadata": {},
   "outputs": [],
   "source": [
    "product_names = merged_dataset['Product Title/Description'].unique()"
   ]
  },
  {
   "cell_type": "code",
   "execution_count": 24,
   "id": "c9fbebe5-d467-452b-b7fa-2d605b6f7682",
   "metadata": {},
   "outputs": [],
   "source": [
    "product_name_mapping  = {Product_name:f\"Product {index +1}\" for index, Product_name in enumerate (product_names)}"
   ]
  },
  {
   "cell_type": "code",
   "execution_count": 25,
   "id": "4b0ff641-a5f5-43ed-801d-6b54fbd85aa0",
   "metadata": {},
   "outputs": [],
   "source": [
    "merged_dataset['Product Title/Description'] = merged_dataset['Product Title/Description'].replace(product_name_mapping)"
   ]
  },
  {
   "cell_type": "code",
   "execution_count": 26,
   "id": "1bda9c1b-cf16-4fdb-938c-2175b5f0403b",
   "metadata": {},
   "outputs": [],
   "source": [
    "merged_dataset.drop(['order_id','SKU','Warehouse ID','state'],axis = 1, inplace = True)"
   ]
  },
  {
   "cell_type": "code",
   "execution_count": 27,
   "id": "7fe7b2f5-4f6d-44d3-a45e-cc6fd618a229",
   "metadata": {},
   "outputs": [],
   "source": [
    "fill_na_columns = ['Net Sales', 'Return','Promo Sales']\n",
    "\n",
    "for column in fill_na_columns:\n",
    "    merged_dataset[column] = merged_dataset[column].fillna(0)"
   ]
  },
  {
   "cell_type": "code",
   "execution_count": 28,
   "id": "2f0e553b-1cf9-4917-92e8-d50c7f87d617",
   "metadata": {},
   "outputs": [],
   "source": [
    "merged_dataset.to_csv('final_dataset.csv',index = False)"
   ]
  },
  {
   "cell_type": "code",
   "execution_count": 29,
   "id": "b0a77d56-a2dd-4ea2-aada-efbff96f4506",
   "metadata": {},
   "outputs": [
    {
     "data": {
      "text/html": [
       "<div>\n",
       "<style scoped>\n",
       "    .dataframe tbody tr th:only-of-type {\n",
       "        vertical-align: middle;\n",
       "    }\n",
       "\n",
       "    .dataframe tbody tr th {\n",
       "        vertical-align: top;\n",
       "    }\n",
       "\n",
       "    .dataframe thead th {\n",
       "        text-align: right;\n",
       "    }\n",
       "</style>\n",
       "<table border=\"1\" class=\"dataframe\">\n",
       "  <thead>\n",
       "    <tr style=\"text-align: right;\">\n",
       "      <th></th>\n",
       "      <th>Product Title/Description</th>\n",
       "      <th>Event Sub Type</th>\n",
       "      <th>Order Date</th>\n",
       "      <th>Customer's Delivery Pincode</th>\n",
       "      <th>order_date</th>\n",
       "      <th>Shipping State</th>\n",
       "      <th>Gross Sale</th>\n",
       "      <th>Net Sales</th>\n",
       "      <th>Return</th>\n",
       "      <th>Promo Sales</th>\n",
       "      <th>hour</th>\n",
       "    </tr>\n",
       "  </thead>\n",
       "  <tbody>\n",
       "    <tr>\n",
       "      <th>0</th>\n",
       "      <td>Product 1</td>\n",
       "      <td>Sale</td>\n",
       "      <td>2023-08-29 00:00:00.0</td>\n",
       "      <td>226002</td>\n",
       "      <td>2023-08-29 13:44:01</td>\n",
       "      <td>Uttar Pradesh</td>\n",
       "      <td>904.0</td>\n",
       "      <td>904.0</td>\n",
       "      <td>0.0</td>\n",
       "      <td>0.0</td>\n",
       "      <td>13.0</td>\n",
       "    </tr>\n",
       "    <tr>\n",
       "      <th>1</th>\n",
       "      <td>Product 2</td>\n",
       "      <td>Sale</td>\n",
       "      <td>2023-09-01 00:00:00.0</td>\n",
       "      <td>534462</td>\n",
       "      <td>2023-09-01 18:50:10</td>\n",
       "      <td>Andhra Pradesh</td>\n",
       "      <td>234.0</td>\n",
       "      <td>234.0</td>\n",
       "      <td>0.0</td>\n",
       "      <td>0.0</td>\n",
       "      <td>18.0</td>\n",
       "    </tr>\n",
       "    <tr>\n",
       "      <th>2</th>\n",
       "      <td>Product 2</td>\n",
       "      <td>Return</td>\n",
       "      <td>2023-08-26 00:00:00.0</td>\n",
       "      <td>600045</td>\n",
       "      <td>2023-08-26 10:58:44</td>\n",
       "      <td>Tamil Nadu</td>\n",
       "      <td>0.0</td>\n",
       "      <td>-222.0</td>\n",
       "      <td>-222.0</td>\n",
       "      <td>0.0</td>\n",
       "      <td>10.0</td>\n",
       "    </tr>\n",
       "    <tr>\n",
       "      <th>3</th>\n",
       "      <td>Product 3</td>\n",
       "      <td>Return</td>\n",
       "      <td>2023-08-23 00:00:00.0</td>\n",
       "      <td>335524</td>\n",
       "      <td>2023-08-23 12:36:51</td>\n",
       "      <td>Rajasthan</td>\n",
       "      <td>0.0</td>\n",
       "      <td>-234.0</td>\n",
       "      <td>-234.0</td>\n",
       "      <td>0.0</td>\n",
       "      <td>12.0</td>\n",
       "    </tr>\n",
       "    <tr>\n",
       "      <th>4</th>\n",
       "      <td>Product 3</td>\n",
       "      <td>Sale</td>\n",
       "      <td>2023-09-01 00:00:00.0</td>\n",
       "      <td>500035</td>\n",
       "      <td>2023-09-01 16:13:03</td>\n",
       "      <td>Telangana</td>\n",
       "      <td>222.0</td>\n",
       "      <td>222.0</td>\n",
       "      <td>0.0</td>\n",
       "      <td>0.0</td>\n",
       "      <td>16.0</td>\n",
       "    </tr>\n",
       "    <tr>\n",
       "      <th>...</th>\n",
       "      <td>...</td>\n",
       "      <td>...</td>\n",
       "      <td>...</td>\n",
       "      <td>...</td>\n",
       "      <td>...</td>\n",
       "      <td>...</td>\n",
       "      <td>...</td>\n",
       "      <td>...</td>\n",
       "      <td>...</td>\n",
       "      <td>...</td>\n",
       "      <td>...</td>\n",
       "    </tr>\n",
       "    <tr>\n",
       "      <th>4305</th>\n",
       "      <td>Product 2</td>\n",
       "      <td>Sale</td>\n",
       "      <td>2023-07-30 00:00:00.0</td>\n",
       "      <td>533274</td>\n",
       "      <td>2023-07-30 10:34:26</td>\n",
       "      <td>Andhra Pradesh</td>\n",
       "      <td>229.0</td>\n",
       "      <td>229.0</td>\n",
       "      <td>0.0</td>\n",
       "      <td>0.0</td>\n",
       "      <td>10.0</td>\n",
       "    </tr>\n",
       "    <tr>\n",
       "      <th>4306</th>\n",
       "      <td>Product 2</td>\n",
       "      <td>Sale</td>\n",
       "      <td>2023-07-29 00:00:00.0</td>\n",
       "      <td>533001</td>\n",
       "      <td>2023-07-29 20:01:39</td>\n",
       "      <td>Andhra Pradesh</td>\n",
       "      <td>234.0</td>\n",
       "      <td>234.0</td>\n",
       "      <td>0.0</td>\n",
       "      <td>0.0</td>\n",
       "      <td>20.0</td>\n",
       "    </tr>\n",
       "    <tr>\n",
       "      <th>4307</th>\n",
       "      <td>Product 25</td>\n",
       "      <td>Return</td>\n",
       "      <td>2023-07-23 00:00:00.0</td>\n",
       "      <td>533254</td>\n",
       "      <td>2023-07-23 18:19:32</td>\n",
       "      <td>Andhra Pradesh</td>\n",
       "      <td>0.0</td>\n",
       "      <td>-1509.0</td>\n",
       "      <td>-1509.0</td>\n",
       "      <td>0.0</td>\n",
       "      <td>18.0</td>\n",
       "    </tr>\n",
       "    <tr>\n",
       "      <th>4308</th>\n",
       "      <td>Product 25</td>\n",
       "      <td>Sale</td>\n",
       "      <td>2023-07-29 00:00:00.0</td>\n",
       "      <td>141119</td>\n",
       "      <td>2023-07-29 10:40:51</td>\n",
       "      <td>Punjab</td>\n",
       "      <td>1409.0</td>\n",
       "      <td>1409.0</td>\n",
       "      <td>0.0</td>\n",
       "      <td>1409.0</td>\n",
       "      <td>10.0</td>\n",
       "    </tr>\n",
       "    <tr>\n",
       "      <th>4309</th>\n",
       "      <td>Product 26</td>\n",
       "      <td>Sale</td>\n",
       "      <td>2023-07-31 00:00:00.0</td>\n",
       "      <td>412307</td>\n",
       "      <td>2023-07-31 09:24:48</td>\n",
       "      <td>Maharashtra</td>\n",
       "      <td>244.0</td>\n",
       "      <td>244.0</td>\n",
       "      <td>0.0</td>\n",
       "      <td>0.0</td>\n",
       "      <td>9.0</td>\n",
       "    </tr>\n",
       "  </tbody>\n",
       "</table>\n",
       "<p>4150 rows × 11 columns</p>\n",
       "</div>"
      ],
      "text/plain": [
       "     Product Title/Description Event Sub Type             Order Date  \\\n",
       "0                    Product 1           Sale  2023-08-29 00:00:00.0   \n",
       "1                    Product 2           Sale  2023-09-01 00:00:00.0   \n",
       "2                    Product 2         Return  2023-08-26 00:00:00.0   \n",
       "3                    Product 3         Return  2023-08-23 00:00:00.0   \n",
       "4                    Product 3           Sale  2023-09-01 00:00:00.0   \n",
       "...                        ...            ...                    ...   \n",
       "4305                 Product 2           Sale  2023-07-30 00:00:00.0   \n",
       "4306                 Product 2           Sale  2023-07-29 00:00:00.0   \n",
       "4307                Product 25         Return  2023-07-23 00:00:00.0   \n",
       "4308                Product 25           Sale  2023-07-29 00:00:00.0   \n",
       "4309                Product 26           Sale  2023-07-31 00:00:00.0   \n",
       "\n",
       "      Customer's Delivery Pincode          order_date  Shipping State  \\\n",
       "0                          226002 2023-08-29 13:44:01   Uttar Pradesh   \n",
       "1                          534462 2023-09-01 18:50:10  Andhra Pradesh   \n",
       "2                          600045 2023-08-26 10:58:44      Tamil Nadu   \n",
       "3                          335524 2023-08-23 12:36:51       Rajasthan   \n",
       "4                          500035 2023-09-01 16:13:03       Telangana   \n",
       "...                           ...                 ...             ...   \n",
       "4305                       533274 2023-07-30 10:34:26  Andhra Pradesh   \n",
       "4306                       533001 2023-07-29 20:01:39  Andhra Pradesh   \n",
       "4307                       533254 2023-07-23 18:19:32  Andhra Pradesh   \n",
       "4308                       141119 2023-07-29 10:40:51          Punjab   \n",
       "4309                       412307 2023-07-31 09:24:48     Maharashtra   \n",
       "\n",
       "      Gross Sale  Net Sales  Return  Promo Sales  hour  \n",
       "0          904.0      904.0     0.0          0.0  13.0  \n",
       "1          234.0      234.0     0.0          0.0  18.0  \n",
       "2            0.0     -222.0  -222.0          0.0  10.0  \n",
       "3            0.0     -234.0  -234.0          0.0  12.0  \n",
       "4          222.0      222.0     0.0          0.0  16.0  \n",
       "...          ...        ...     ...          ...   ...  \n",
       "4305       229.0      229.0     0.0          0.0  10.0  \n",
       "4306       234.0      234.0     0.0          0.0  20.0  \n",
       "4307         0.0    -1509.0 -1509.0          0.0  18.0  \n",
       "4308      1409.0     1409.0     0.0       1409.0  10.0  \n",
       "4309       244.0      244.0     0.0          0.0   9.0  \n",
       "\n",
       "[4150 rows x 11 columns]"
      ]
     },
     "execution_count": 29,
     "metadata": {},
     "output_type": "execute_result"
    }
   ],
   "source": [
    "merged_dataset"
   ]
  },
  {
   "cell_type": "code",
   "execution_count": null,
   "id": "bad89ce0-569a-468c-a6c5-0acaf5f901e9",
   "metadata": {},
   "outputs": [],
   "source": []
  }
 ],
 "metadata": {
  "kernelspec": {
   "display_name": "Python 3 (ipykernel)",
   "language": "python",
   "name": "python3"
  },
  "language_info": {
   "codemirror_mode": {
    "name": "ipython",
    "version": 3
   },
   "file_extension": ".py",
   "mimetype": "text/x-python",
   "name": "python",
   "nbconvert_exporter": "python",
   "pygments_lexer": "ipython3",
   "version": "3.9.7"
  }
 },
 "nbformat": 4,
 "nbformat_minor": 5
}
